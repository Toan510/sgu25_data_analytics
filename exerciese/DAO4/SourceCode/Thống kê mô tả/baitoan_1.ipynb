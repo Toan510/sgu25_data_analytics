{
 "cells": [
  {
   "cell_type": "markdown",
   "id": "8fd5ceec",
   "metadata": {},
   "source": [
    "# Khám phá dữ liệu COVID"
   ]
  },
  {
   "cell_type": "markdown",
   "id": "64eb3694",
   "metadata": {},
   "source": [
    "## 1. Các thư viện"
   ]
  },
  {
   "cell_type": "code",
   "execution_count": 46,
   "id": "35b950e7",
   "metadata": {},
   "outputs": [],
   "source": [
    "import numpy as np\n",
    "import pandas as pd\n",
    "from scipy import stats"
   ]
  },
  {
   "cell_type": "markdown",
   "id": "cfccdd3d",
   "metadata": {},
   "source": [
    "## 2 Tải dữ liệu từ file .csv"
   ]
  },
  {
   "cell_type": "code",
   "execution_count": 47,
   "id": "b38070b2",
   "metadata": {},
   "outputs": [],
   "source": [
    "# Load the .csv into a dataframe using read_csv\n",
    "covid_data = pd.read_csv(\"covid-data.csv\")\n",
    "covid_data = covid_data[['iso_code','continent',\n",
    "'location','date','total_cases','new_cases']]"
   ]
  },
  {
   "cell_type": "markdown",
   "id": "1c797041",
   "metadata": {},
   "source": [
    "## 3. Cái nhìn sơ bộ về dữ liệu"
   ]
  },
  {
   "cell_type": "code",
   "execution_count": 48,
   "id": "80a8f46a",
   "metadata": {},
   "outputs": [
    {
     "data": {
      "text/plain": [
       "(262423, 6)"
      ]
     },
     "execution_count": 48,
     "metadata": {},
     "output_type": "execute_result"
    }
   ],
   "source": [
    "# Take a quick look at the data\n",
    "covid_data.head(5)\n",
    "covid_data.dtypes\n",
    "covid_data.shape"
   ]
  },
  {
   "cell_type": "markdown",
   "id": "b10fd4c7",
   "metadata": {},
   "source": [
    "## 4. Trung bình bộ dữ liệu"
   ]
  },
  {
   "cell_type": "code",
   "execution_count": 49,
   "id": "adc24094",
   "metadata": {},
   "outputs": [
    {
     "name": "stdout",
     "output_type": "stream",
     "text": [
      "11646.118602640552\n"
     ]
    }
   ],
   "source": [
    "# Get the mean of the data\n",
    "data_mean = np.mean(covid_data[\"new_cases\"])\n",
    "print(data_mean)"
   ]
  },
  {
   "cell_type": "markdown",
   "id": "06425523",
   "metadata": {},
   "source": [
    "## 5. Trung vị của dữ liệu"
   ]
  },
  {
   "cell_type": "code",
   "execution_count": 50,
   "id": "4ae66e94",
   "metadata": {},
   "outputs": [
    {
     "name": "stdout",
     "output_type": "stream",
     "text": [
      "nan\n"
     ]
    }
   ],
   "source": [
    "data_median = np.median(covid_data[\"new_cases\"])\n",
    "print(data_median)"
   ]
  },
  {
   "cell_type": "markdown",
   "id": "c97d7ea6",
   "metadata": {},
   "source": [
    "## 6. Lấy chế độ của dữ liệu"
   ]
  },
  {
   "cell_type": "code",
   "execution_count": 51,
   "id": "43cd985d",
   "metadata": {},
   "outputs": [
    {
     "name": "stdout",
     "output_type": "stream",
     "text": [
      "ModeResult(mode=np.float64(0.0), count=np.int64(83311))\n"
     ]
    }
   ],
   "source": [
    "data_mode = stats.mode(covid_data[\"new_cases\"])\n",
    "print(data_mode)"
   ]
  },
  {
   "cell_type": "markdown",
   "id": "af344c33",
   "metadata": {},
   "source": [
    "## 7. Lấy phương sai của dữ liệu"
   ]
  },
  {
   "cell_type": "code",
   "execution_count": 52,
   "id": "2d2d9e66",
   "metadata": {},
   "outputs": [
    {
     "name": "stdout",
     "output_type": "stream",
     "text": [
      "6635622519.376551\n"
     ]
    }
   ],
   "source": [
    "data_variance = np.var(covid_data[\"new_cases\"])\n",
    "print(data_variance)"
   ]
  },
  {
   "cell_type": "markdown",
   "id": "3b0e9088",
   "metadata": {},
   "source": [
    "## 8. Lấy độ lệch chuẩn của dữ liệu"
   ]
  },
  {
   "cell_type": "code",
   "execution_count": 53,
   "id": "e74e5a3d",
   "metadata": {},
   "outputs": [
    {
     "name": "stdout",
     "output_type": "stream",
     "text": [
      "81459.33046236355\n"
     ]
    }
   ],
   "source": [
    "data_sd = np.std(covid_data[\"new_cases\"])\n",
    "print(data_sd)"
   ]
  },
  {
   "cell_type": "markdown",
   "id": "7b4bddee",
   "metadata": {},
   "source": [
    "## 9.Tính giá trị lớn nhất và nhỏ nhất của dữ liệu"
   ]
  },
  {
   "cell_type": "code",
   "execution_count": 54,
   "id": "1b41fd3f",
   "metadata": {},
   "outputs": [
    {
     "name": "stdout",
     "output_type": "stream",
     "text": [
      "4082893.0\n",
      "0.0\n"
     ]
    }
   ],
   "source": [
    "data_max = np.max(covid_data[\"new_cases\"])\n",
    "data_min = np.min(covid_data[\"new_cases\"])\n",
    "print(data_max)\n",
    "print(data_min)"
   ]
  },
  {
   "cell_type": "markdown",
   "id": "62268a93",
   "metadata": {},
   "source": [
    "## 10. Lấy phần trăm thứ 60 của dữ liệu"
   ]
  },
  {
   "cell_type": "code",
   "execution_count": 55,
   "id": "b8c5de1f",
   "metadata": {},
   "outputs": [
    {
     "name": "stdout",
     "output_type": "stream",
     "text": [
      "nan\n"
     ]
    }
   ],
   "source": [
    "data_percentile = np.percentile(covid_data[\"new_cases\"],60)\n",
    "print(data_percentile)"
   ]
  },
  {
   "cell_type": "markdown",
   "id": "2b99c5d4",
   "metadata": {},
   "source": [
    "## 11. Lấy các phần tư của dữ liệu"
   ]
  },
  {
   "cell_type": "code",
   "execution_count": 56,
   "id": "72466298",
   "metadata": {},
   "outputs": [
    {
     "name": "stdout",
     "output_type": "stream",
     "text": [
      "nan\n"
     ]
    }
   ],
   "source": [
    "data_quartile = np.quantile(covid_data[\"new_cases\"], 0.75)\n",
    "print(data_quartile)"
   ]
  },
  {
   "cell_type": "markdown",
   "id": "aa3935cd",
   "metadata": {},
   "source": [
    "## 12. Nhận IQR của dữ liệu"
   ]
  },
  {
   "cell_type": "code",
   "execution_count": 57,
   "id": "36dcc63f",
   "metadata": {},
   "outputs": [
    {
     "name": "stdout",
     "output_type": "stream",
     "text": [
      "nan\n"
     ]
    }
   ],
   "source": [
    "data_IQR = stats.iqr(covid_data[\"new_cases\"])\n",
    "print(data_IQR)"
   ]
  }
 ],
 "metadata": {
  "kernelspec": {
   "display_name": "Python 3",
   "language": "python",
   "name": "python3"
  },
  "language_info": {
   "codemirror_mode": {
    "name": "ipython",
    "version": 3
   },
   "file_extension": ".py",
   "mimetype": "text/x-python",
   "name": "python",
   "nbconvert_exporter": "python",
   "pygments_lexer": "ipython3",
   "version": "3.11.9"
  }
 },
 "nbformat": 4,
 "nbformat_minor": 5
}
