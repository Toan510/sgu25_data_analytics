{
  "nbformat": 4,
  "nbformat_minor": 0,
  "metadata": {
    "colab": {
      "provenance": [],
      "authorship_tag": "ABX9TyPO21U20jsX16MntIJ8MudF",
      "include_colab_link": true
    },
    "kernelspec": {
      "name": "python3",
      "display_name": "Python 3"
    },
    "language_info": {
      "name": "python"
    }
  },
  "cells": [
    {
      "cell_type": "markdown",
      "metadata": {
        "id": "view-in-github",
        "colab_type": "text"
      },
      "source": [
        "<a href=\"https://colab.research.google.com/github/Toan510/sgu25_data_analytics/blob/main/Bu%E1%BB%95i02_Python101.ipynb\" target=\"_parent\"><img src=\"https://colab.research.google.com/assets/colab-badge.svg\" alt=\"Open In Colab\"/></a>"
      ]
    },
    {
      "cell_type": "markdown",
      "source": [
        "# Buổi 2 - Python101"
      ],
      "metadata": {
        "id": "bxVomTGJgdab"
      }
    },
    {
      "cell_type": "markdown",
      "source": [
        "## Pythonn Programing"
      ],
      "metadata": {
        "id": "zy_GwO6shrb7"
      }
    },
    {
      "cell_type": "code",
      "source": [
        "from IPython.display import display"
      ],
      "metadata": {
        "id": "ewg7v8GPhrKj"
      },
      "execution_count": null,
      "outputs": []
    },
    {
      "cell_type": "code",
      "source": [
        "print(\"Hello World\")"
      ],
      "metadata": {
        "colab": {
          "base_uri": "https://localhost:8080/"
        },
        "id": "D0H8rwLqh9DT",
        "outputId": "e4234cfb-fa7c-4b67-9e3f-79b5fb193ac2"
      },
      "execution_count": null,
      "outputs": [
        {
          "output_type": "stream",
          "name": "stdout",
          "text": [
            "Hello World\n"
          ]
        }
      ]
    },
    {
      "cell_type": "code",
      "source": [
        "#Indentation\n",
        "score = 80\n",
        "if score >=60 :\n",
        "  print(\"Pass\")"
      ],
      "metadata": {
        "colab": {
          "base_uri": "https://localhost:8080/"
        },
        "id": "PBZSYXLHj0lC",
        "outputId": "47de0305-1da3-4a15-ea7d-a7f57c74a437"
      },
      "execution_count": null,
      "outputs": [
        {
          "output_type": "stream",
          "name": "stdout",
          "text": [
            "Pass\n"
          ]
        }
      ]
    },
    {
      "cell_type": "code",
      "source": [
        "# Python Variables\n",
        "x = 2\n",
        "print(x)\n",
        "\n",
        "price = 2.5\n",
        "print(price)\n",
        "\n",
        "word = 'Hello'\n",
        "print(word)\n",
        "\n",
        "word = 'Hello'\n",
        "print(word)\n",
        "\n",
        "word = \"Hello\"\n",
        "print(word)\n",
        "\n",
        "word = '''Hello'''\n",
        "print(word)\n",
        "\n",
        "x = 2\n",
        "y = x + 1\n",
        "print(y)"
      ],
      "metadata": {
        "colab": {
          "base_uri": "https://localhost:8080/"
        },
        "id": "6VQN1RgQkhia",
        "outputId": "4c4a8de1-dda9-4247-e940-26a46ad6d454"
      },
      "execution_count": null,
      "outputs": [
        {
          "output_type": "stream",
          "name": "stdout",
          "text": [
            "2\n",
            "2.5\n",
            "Hello\n",
            "Hello\n",
            "Hello\n",
            "Hello\n",
            "3\n"
          ]
        }
      ]
    },
    {
      "cell_type": "code",
      "source": [
        "#python_version()\n",
        "from platform import python_version\n",
        "print(\"Python Version:\", python_version())"
      ],
      "metadata": {
        "colab": {
          "base_uri": "https://localhost:8080/"
        },
        "id": "jr83i-j6lWoM",
        "outputId": "acfd260a-bbb7-4452-fd20-8c552262c1e9"
      },
      "execution_count": null,
      "outputs": [
        {
          "output_type": "stream",
          "name": "stdout",
          "text": [
            "Python Version: 3.12.11\n"
          ]
        }
      ]
    },
    {
      "cell_type": "code",
      "source": [
        "#Python Data Types\n",
        "#str\n",
        "x = \"Hello World\"\n",
        "print(x)\n",
        "\n",
        "#int\n",
        "x = 2\n",
        "print(x)\n",
        "\n",
        "#float\n",
        "x = 2.5\n",
        "print(x)\n",
        "\n",
        "#complex\n",
        "x = 7j\n",
        "print(x)"
      ],
      "metadata": {
        "colab": {
          "base_uri": "https://localhost:8080/"
        },
        "id": "wVCnddntleXi",
        "outputId": "bab2c937-c0fe-487a-a8e6-959ed4fb1c1a"
      },
      "execution_count": null,
      "outputs": [
        {
          "output_type": "stream",
          "name": "stdout",
          "text": [
            "Hello World\n",
            "2\n",
            "2.5\n",
            "7j\n"
          ]
        }
      ]
    },
    {
      "cell_type": "code",
      "source": [
        "# Python Data Types\n",
        "#list\n",
        "x = [\"apple\", \"banana\", \"cherry\"]\n",
        "print(x)\n",
        "\n",
        "#tuple\n",
        "x = (\"apple\", \"banana\", \"cherry\")\n",
        "print(x)\n",
        "\n",
        "#range\n",
        "x = range(6)\n",
        "print(x)\n",
        "\n",
        "#dict\n",
        "x = {\"name\" : \"Tom\", \"age\" : 20}\n",
        "print(x)\n",
        "\n",
        "#set\n",
        "x = {\"apple\", \"banana\", \"cherry\"}\n",
        "print(x)\n",
        "\n",
        "#frozenset\n",
        "x = frozenset({\"apple\", \"banana\", \"cherry\"})\n",
        "print(x)\n",
        "\n",
        "#bool\n",
        "x = True\n",
        "print(x)\n",
        "\n",
        "#bytes\n",
        "x = b\"Hello\"\n",
        "print(x)\n",
        "\n",
        "#bytearray\n",
        "x = bytearray(5)\n",
        "print(x)\n",
        "\n",
        "#memoryview\n",
        "x = memoryview(bytes(5))\n",
        "print(x)\n",
        "\n",
        "#NoneType\n",
        "x = None\n",
        "print(x)"
      ],
      "metadata": {
        "colab": {
          "base_uri": "https://localhost:8080/"
        },
        "id": "CBG26ICSm4Zb",
        "outputId": "269c0990-ea62-44f5-cc53-bd65acad70f2"
      },
      "execution_count": null,
      "outputs": [
        {
          "output_type": "stream",
          "name": "stdout",
          "text": [
            "['apple', 'banana', 'cherry']\n",
            "('apple', 'banana', 'cherry')\n",
            "range(0, 6)\n",
            "{'name': 'Tom', 'age': 20}\n",
            "{'apple', 'cherry', 'banana'}\n",
            "frozenset({'apple', 'cherry', 'banana'})\n",
            "True\n",
            "b'Hello'\n",
            "bytearray(b'\\x00\\x00\\x00\\x00\\x00')\n",
            "<memory at 0x7fa47456a740>\n",
            "None\n"
          ]
        }
      ]
    },
    {
      "cell_type": "code",
      "source": [
        "#Python Casting\n",
        "x = str(3)   # x will be '3'\n",
        "y = int(3)   # y will be 3\n",
        "z = float(3) # z will be 3.0\n",
        "\n",
        "print(x, type(x))\n",
        "print(y, type(y))\n",
        "print(z, type(z))"
      ],
      "metadata": {
        "colab": {
          "base_uri": "https://localhost:8080/"
        },
        "id": "5oBS38AWpNRJ",
        "outputId": "9d3f00bf-ff81-4cbb-c0e7-0a308454dbf5"
      },
      "execution_count": null,
      "outputs": [
        {
          "output_type": "stream",
          "name": "stdout",
          "text": [
            "3 <class 'str'>\n",
            "3 <class 'int'>\n",
            "3.0 <class 'float'>\n"
          ]
        }
      ]
    },
    {
      "cell_type": "code",
      "source": [
        "#Python Numbers\n",
        "x = 2     # int\n",
        "y = 3.4   # float\n",
        "z = 7j    #complex\n",
        "\n",
        "print(x, type(x))\n",
        "print(y, type(y))\n",
        "print(z, type(z))"
      ],
      "metadata": {
        "colab": {
          "base_uri": "https://localhost:8080/"
        },
        "id": "mTVG5k12p1Qy",
        "outputId": "b00bc1ac-9012-49ce-fa73-f89bcd2f99ca"
      },
      "execution_count": null,
      "outputs": [
        {
          "output_type": "stream",
          "name": "stdout",
          "text": [
            "2 <class 'int'>\n",
            "3.4 <class 'float'>\n",
            "7j <class 'complex'>\n"
          ]
        }
      ]
    },
    {
      "cell_type": "code",
      "source": [
        "#Python Basic Operators\n",
        "print('7 + 2 =', 7 + 2) #Addition\n",
        "print('7 - 2 =', 7 - 2) #Subtraction\n",
        "print('7 * 2 =', 7 * 2) #Multiplication\n",
        "print('7 / 2 =', 7 / 2) #Division\n",
        "print('7 // 2 =', 7 // 2) #Floor division\n",
        "print('7 % 2 =', 7 % 2) #Modulus\n",
        "print('7 ** 2 =', 7 ** 2) #Exponentiation\n"
      ],
      "metadata": {
        "colab": {
          "base_uri": "https://localhost:8080/"
        },
        "id": "aRDaZIWqqzb4",
        "outputId": "2276cc4a-a0fd-4bc5-b443-30d08f6f5c84"
      },
      "execution_count": null,
      "outputs": [
        {
          "output_type": "stream",
          "name": "stdout",
          "text": [
            "7 + 2 = 9\n",
            "7 - 2 = 5\n",
            "7 * 2 = 14\n",
            "7 / 2 = 3.5\n",
            "7 // 2 = 3\n",
            "7 % 2 = 1\n",
            "7 ** 2 = 49\n"
          ]
        }
      ]
    },
    {
      "cell_type": "code",
      "source": [
        "# Python Booleans: True or False\n",
        "print(3 > 2)\n",
        "print(3 == 2)\n",
        "print(3 < 2)"
      ],
      "metadata": {
        "colab": {
          "base_uri": "https://localhost:8080/"
        },
        "id": "x5prhnNrr39h",
        "outputId": "a3029dc3-94ba-4d5e-e3b1-887855edf3b4"
      },
      "execution_count": null,
      "outputs": [
        {
          "output_type": "stream",
          "name": "stdout",
          "text": [
            "True\n",
            "False\n",
            "False\n"
          ]
        }
      ]
    },
    {
      "cell_type": "code",
      "source": [
        "# BMI Calculator in Python\n",
        "height_cm = 170\n",
        "weight_kg = 60\n",
        "height_m = height_cm/100\n",
        "BMI = (weight_kg/(height_m**2))\n",
        "\n",
        "print(\"Your BMI is: \" + str(round(BMI,1)))"
      ],
      "metadata": {
        "colab": {
          "base_uri": "https://localhost:8080/"
        },
        "id": "2-aeMu3lr8GI",
        "outputId": "85cacf49-b262-4f9e-bd30-a65589d4fab7"
      },
      "execution_count": null,
      "outputs": [
        {
          "output_type": "stream",
          "name": "stdout",
          "text": [
            "Your BMI is: 20.8\n"
          ]
        }
      ]
    },
    {
      "cell_type": "markdown",
      "source": [
        "##Future value\n"
      ],
      "metadata": {
        "id": "I810A94Es5bQ"
      }
    },
    {
      "cell_type": "code",
      "source": [
        "# How much is your $100 worth after 7 years?\n",
        "fv = 100 * 1.1 ** 7\n",
        "print('fv = ', round(fv, 2))\n",
        "# output = 194.87"
      ],
      "metadata": {
        "colab": {
          "base_uri": "https://localhost:8080/"
        },
        "id": "Gaq1HLCks-5Q",
        "outputId": "dadeb452-d85c-43f3-e78d-741bc0262690"
      },
      "execution_count": null,
      "outputs": [
        {
          "output_type": "stream",
          "name": "stdout",
          "text": [
            "fv =  194.87\n"
          ]
        }
      ]
    },
    {
      "cell_type": "code",
      "source": [
        "# Future Value\n",
        "pv = 100\n",
        "r = 0.1\n",
        "n = 7\n",
        "fv = pv * ((1 + (r)) ** n)\n",
        "print(round(fv, 2))"
      ],
      "metadata": {
        "colab": {
          "base_uri": "https://localhost:8080/"
        },
        "id": "MdgRvH6TtKqw",
        "outputId": "8edfa28d-827a-43ba-cf4b-3f69a85fd199"
      },
      "execution_count": null,
      "outputs": [
        {
          "output_type": "stream",
          "name": "stdout",
          "text": [
            "194.87\n"
          ]
        }
      ]
    },
    {
      "cell_type": "code",
      "source": [
        "# Future Value\n",
        "amount = 100\n",
        "interest = 10 #10% = 0.01 * 10\n",
        "years = 7\n",
        "\n",
        "future_value = amount * ((1 + (0.01 * interest)) ** years)\n",
        "print(round(future_value, 2))"
      ],
      "metadata": {
        "colab": {
          "base_uri": "https://localhost:8080/"
        },
        "id": "SGHRFIyptOon",
        "outputId": "929aee7b-fb86-4291-b7f2-e06e1cc3f21a"
      },
      "execution_count": null,
      "outputs": [
        {
          "output_type": "stream",
          "name": "stdout",
          "text": [
            "194.87\n"
          ]
        }
      ]
    },
    {
      "cell_type": "markdown",
      "source": [
        "##Python Data Structures"
      ],
      "metadata": {
        "id": "t6Z4HtQstSrH"
      }
    },
    {
      "cell_type": "code",
      "source": [
        "#Python Data Types\n",
        "x = [\"apple\", \"banana\", \"cherry\"] #list\n",
        "print(x)\n",
        "\n",
        "x = (\"apple\", \"banana\", \"cherry\") #tuple\n",
        "print(x)\n",
        "\n",
        "x = {\"name\" : \"Tom\", \"age\" : 20}  #dict\n",
        "print(x[\"name\"],x[\"age\"])\n",
        "\n",
        "x = {\"apple\", \"banana\", \"cherry\"} #set\n",
        "print(x)"
      ],
      "metadata": {
        "colab": {
          "base_uri": "https://localhost:8080/"
        },
        "id": "iT0vo1DftckH",
        "outputId": "7449f929-3c53-4e61-f424-cadaea2221e0"
      },
      "execution_count": null,
      "outputs": [
        {
          "output_type": "stream",
          "name": "stdout",
          "text": [
            "['apple', 'banana', 'cherry']\n",
            "('apple', 'banana', 'cherry')\n",
            "Tom 20\n",
            "{'apple', 'cherry', 'banana'}\n"
          ]
        }
      ]
    },
    {
      "cell_type": "code",
      "source": [
        "#Lists []\n",
        "x = [60, 70, 80, 90]\n",
        "print(len(x))#length\n",
        "print(x[0])  #position first left to right\n",
        "print(x[1])  #position second left to right\n",
        "print(x[-1]) #position first right to left"
      ],
      "metadata": {
        "colab": {
          "base_uri": "https://localhost:8080/"
        },
        "id": "E2YkLBKRtvqP",
        "outputId": "92554aea-695a-41c2-9343-259f45138189"
      },
      "execution_count": null,
      "outputs": [
        {
          "output_type": "stream",
          "name": "stdout",
          "text": [
            "4\n",
            "60\n",
            "70\n",
            "90\n"
          ]
        }
      ]
    },
    {
      "cell_type": "code",
      "source": [
        "#Tuples ()\n",
        "x = (10, 20, 30, 40, 50)\n",
        "print(x[0]) #position first left to right\n",
        "print(x[1]) #position second left to right\n",
        "print(x[2]) #position third left to right\n",
        "print(x[-1]) #position first right to left"
      ],
      "metadata": {
        "colab": {
          "base_uri": "https://localhost:8080/"
        },
        "id": "_cQE6Am-vOnv",
        "outputId": "d1855b93-d966-4f73-cfbb-212970b57113"
      },
      "execution_count": null,
      "outputs": [
        {
          "output_type": "stream",
          "name": "stdout",
          "text": [
            "10\n",
            "20\n",
            "30\n",
            "50\n"
          ]
        }
      ]
    },
    {
      "cell_type": "code",
      "source": [
        "#Sets {}\n",
        "animals = {'cat', 'dog'}\n",
        "print('cat' in animals) #cat in \"animals\" -> true\n",
        "print('fish' in animals)#fish not in \"animals\" -> fals\n",
        "\n",
        "animals.add('fish')\n",
        "print('fish' in animals)#fish added by code so fish in \"animals\" -> true\n",
        "print(len(animals))#count \"animals\"\n",
        "\n",
        "animals.add('cat')\n",
        "print(len(animals))#count the number of values ​​in \"animals\" after adding cat but cat is already in animals so it doesn't change - > 3\n",
        "\n",
        "animals.remove('cat')\n",
        "print(len(animals))#count the number of values ​​in \"animals\" after removing cat -> 2"
      ],
      "metadata": {
        "colab": {
          "base_uri": "https://localhost:8080/"
        },
        "id": "e-jSDGizvlxe",
        "outputId": "f0a69eec-5aa7-4352-d5b8-dc19529848cf"
      },
      "execution_count": null,
      "outputs": [
        {
          "output_type": "stream",
          "name": "stdout",
          "text": [
            "True\n",
            "False\n",
            "True\n",
            "3\n",
            "3\n",
            "2\n"
          ]
        }
      ]
    },
    {
      "cell_type": "code",
      "source": [
        "#Dictionary {key : value}\n",
        "k = { 'EN':'English','FR':'French' }\n",
        "\n",
        "print(k['EN'])#call \"EN\" from which we have \"EN\" is English"
      ],
      "metadata": {
        "colab": {
          "base_uri": "https://localhost:8080/"
        },
        "id": "dpmy3tfWxfyn",
        "outputId": "56f7a887-b6eb-4e1e-89bc-e33e752ef906"
      },
      "execution_count": null,
      "outputs": [
        {
          "output_type": "stream",
          "name": "stdout",
          "text": [
            "English\n"
          ]
        }
      ]
    },
    {
      "cell_type": "code",
      "source": [
        "#Python Data Structures\n",
        "fruits = [\"apple\", \"banana\", \"cherry\"] #lists []\n",
        "print(fruits)\n",
        "\n",
        "colors = (\"red\", \"green\", \"blue\") #tuples ()\n",
        "print(colors)\n",
        "\n",
        "animals = {'cat', 'dog'} #sets {}\n",
        "print(animals)\n",
        "\n",
        "person = {\"name\" : \"Tom\", \"age\" : 20} #dictionaries {}\n",
        "print(person['name'],person['age'])"
      ],
      "metadata": {
        "colab": {
          "base_uri": "https://localhost:8080/"
        },
        "id": "n91OLG7xyCn2",
        "outputId": "f4fdf60c-dff2-40fb-ecd2-1e4c7847beee"
      },
      "execution_count": null,
      "outputs": [
        {
          "output_type": "stream",
          "name": "stdout",
          "text": [
            "['apple', 'banana', 'cherry']\n",
            "('red', 'green', 'blue')\n",
            "{'cat', 'dog'}\n",
            "Tom 20\n"
          ]
        }
      ]
    },
    {
      "cell_type": "code",
      "source": [
        "#Python for Finance Applications\n",
        "# Python Lists\n",
        "expenses = [72.50, 80.75, 50.00, 90.25]\n",
        "total_expenses = sum(expenses) #sum of values ​​in list\n",
        "print(\"Total expenses:\", total_expenses)\n",
        "print(\"-\" * 20)\n",
        "\n",
        "# Python Tuples\n",
        "accounts = ((\"Cash\", 1001), (\"Accounts Receivable\", 1002),(\"Inventory\", 1003))\n",
        "\n",
        "for account in accounts:\n",
        "  print(\"Account name:\", account[0], \"Account number:\", account[1])\n",
        "\n",
        "# Python Sets\n",
        "account_numbers = {1001, 1002, 1003}\n",
        "new_account_number = 1004\n",
        "if new_account_number not in account_numbers: #xet dieu kien \"new_account_number\" khong nam trong \"account_numbers\"\n",
        "  print(\"Account number\", new_account_number, \"is not in use.\")\n",
        "print(\"-\" * 20)\n",
        "\n",
        "# Python Dictionaries\n",
        "accounts = {\"1001\": {\"name\": \"Cash\", \"balance\": 500.00, \"type\": \"Asset\"},\n",
        "\"1002\": {\"name\": \"Accounts Receivable\", \"balance\": 1000.00, \"type\": \"Asset\"},\n",
        "\"2001\": {\"name\": \"Accounts Payable\", \"balance\": 750.00, \"type\": \"Liability\"}}\n",
        "for account_number, account_info in accounts.items():\n",
        "  print(\"Account number:\", account_number)\n",
        "  print(\"Account name:\", account_info[\"name\"])\n",
        "  print(\"Account balance:\", account_info[\"balance\"])\n",
        "  print(\"Account type:\", account_info[\"type\"])\n",
        "  print(\"-\" * 20)\n"
      ],
      "metadata": {
        "colab": {
          "base_uri": "https://localhost:8080/"
        },
        "id": "nDeieyAHy_Mu",
        "outputId": "13a039f9-1ee1-4268-93c0-d1ce37e6bc19"
      },
      "execution_count": 11,
      "outputs": [
        {
          "output_type": "stream",
          "name": "stdout",
          "text": [
            "Total expenses: 293.5\n",
            "--------------------\n",
            "Account name: Cash Account number: 1001\n",
            "Account name: Accounts Receivable Account number: 1002\n",
            "Account name: Inventory Account number: 1003\n",
            "Account number 1004 is not in use.\n",
            "--------------------\n",
            "Account number: 1001\n",
            "Account name: Cash\n",
            "Account balance: 500.0\n",
            "Account type: Asset\n",
            "--------------------\n",
            "Account number: 1002\n",
            "Account name: Accounts Receivable\n",
            "Account balance: 1000.0\n",
            "Account type: Asset\n",
            "--------------------\n",
            "Account number: 2001\n",
            "Account name: Accounts Payable\n",
            "Account balance: 750.0\n",
            "Account type: Liability\n",
            "--------------------\n"
          ]
        }
      ]
    },
    {
      "cell_type": "markdown",
      "source": [
        "## Python Control Logic and Loops\n"
      ],
      "metadata": {
        "id": "I7x9Dxva5FOO"
      }
    },
    {
      "cell_type": "code",
      "source": [
        "# Python if\n",
        "score = 80\n",
        "if score >=60: #neu \"score\" lon hon hoac bang thi pass\n",
        " print(\"Pass\")\n"
      ],
      "metadata": {
        "colab": {
          "base_uri": "https://localhost:8080/"
        },
        "id": "sinXHs8C5Nnv",
        "outputId": "8cb6e94f-a270-4c57-b850-382c4214ffcd"
      },
      "execution_count": 12,
      "outputs": [
        {
          "output_type": "stream",
          "name": "stdout",
          "text": [
            "Pass\n"
          ]
        }
      ]
    },
    {
      "cell_type": "code",
      "source": [
        "# Python if elif else\n",
        "score = 95 # Khởi tạo biến score với giá trị 95\n",
        "if score >= 90: # Kiểm tra nếu score lớn hơn hoặc bằng 90\n",
        "  print(\"A\") # Nếu đúng, in ra \"A\"\n",
        "elif score >=60:# Nếu điều kiện trên sai, kiểm tra nếu score lớn hơn hoặc bằng 60\n",
        "  print(\"Pass\") # Nếu đúng, in ra \"Pass\"\n",
        "else: # Nếu tất cả các điều kiện trên đều sai (score nhỏ hơn 60)\n",
        "  print(\"Fail\")# In ra \"Fail\""
      ],
      "metadata": {
        "colab": {
          "base_uri": "https://localhost:8080/"
        },
        "id": "tGSmYGZu580G",
        "outputId": "8140f1d1-0c9c-455a-9ec9-23348fa50f25"
      },
      "execution_count": 13,
      "outputs": [
        {
          "output_type": "stream",
          "name": "stdout",
          "text": [
            "A\n"
          ]
        }
      ]
    },
    {
      "cell_type": "code",
      "source": [
        "# Python if else\n",
        "score = 80 # Khởi tạo biến score với giá trị 80\n",
        "if score >=60:# Kiểm tra nếu score lớn hơn hoặc bằng 60\n",
        "  print(\"Pass\")# Nếu đúng, in ra \"Pass\"\n",
        "else: # Nếu điều kiện trên sai (score nhỏ hơn 60)\n",
        "  print(\"Fail\")# In ra \"Fail\""
      ],
      "metadata": {
        "id": "iYMKv7yf6cou"
      },
      "execution_count": null,
      "outputs": []
    },
    {
      "cell_type": "code",
      "source": [
        "#Python if elif else\n",
        "score = 90\n",
        "grade = \"\"\n",
        "if score >=90: # Kiểm tra nếu score lớn hơn hoặc bằng 90\n",
        "    grade = \"A\"\n",
        "elif score >= 80: # Nếu điều kiện trên sai, kiểm tra nếu score lớn hơn hoặc bằng 80\n",
        "    grade = \"B\"\n",
        "elif score >= 70: # Nếu điều kiện trên sai, kiểm tra nếu score lớn hơn hoặc bằng 70\n",
        "    grade = \"C\"\n",
        "elif score >= 60: # Nếu điều kiện trên sai, kiểm tra nếu score lớn hơn hoặc bằng 60\n",
        "    grade = \"D\"\n",
        "else: # Nếu tất cả các điều kiện trên đều sai (score nhỏ hơn 60)\n",
        "    grade = \"E\"\n",
        "print(grade) # In giá trị của biến grade"
      ],
      "metadata": {
        "colab": {
          "base_uri": "https://localhost:8080/"
        },
        "id": "tVxYwgAn61Tm",
        "outputId": "6b2256c0-bc30-4eb2-9f31-9484e80b65ba"
      },
      "execution_count": 15,
      "outputs": [
        {
          "output_type": "stream",
          "name": "stdout",
          "text": [
            "A\n"
          ]
        }
      ]
    },
    {
      "cell_type": "code",
      "metadata": {
        "colab": {
          "base_uri": "https://localhost:8080/"
        },
        "id": "e869a896",
        "outputId": "ddf5fbf0-73d8-44ef-b006-5b273daf39ac"
      },
      "source": [
        "#Python for Loops\n",
        "for i in range(1,6):\n",
        "  print(i)"
      ],
      "execution_count": 16,
      "outputs": [
        {
          "output_type": "stream",
          "name": "stdout",
          "text": [
            "1\n",
            "2\n",
            "3\n",
            "4\n",
            "5\n"
          ]
        }
      ]
    },
    {
      "cell_type": "code",
      "source": [
        "# for loops\n",
        "for i in range(1,10):#vong lap i di tu 1 den 9\n",
        "  for j in range(1,10):# vong lap j di tu 1 den 9\n",
        "    print(i, ' * ' , j , ' = ', i*j) #thực hiện phép nhan tao thanh bang cuu chuong"
      ],
      "metadata": {
        "colab": {
          "base_uri": "https://localhost:8080/"
        },
        "id": "AO1b537_8_rO",
        "outputId": "90c375ac-28fe-4951-ff24-4488ab23354e"
      },
      "execution_count": 17,
      "outputs": [
        {
          "output_type": "stream",
          "name": "stdout",
          "text": [
            "1  *  1  =  1\n",
            "1  *  2  =  2\n",
            "1  *  3  =  3\n",
            "1  *  4  =  4\n",
            "1  *  5  =  5\n",
            "1  *  6  =  6\n",
            "1  *  7  =  7\n",
            "1  *  8  =  8\n",
            "1  *  9  =  9\n",
            "2  *  1  =  2\n",
            "2  *  2  =  4\n",
            "2  *  3  =  6\n",
            "2  *  4  =  8\n",
            "2  *  5  =  10\n",
            "2  *  6  =  12\n",
            "2  *  7  =  14\n",
            "2  *  8  =  16\n",
            "2  *  9  =  18\n",
            "3  *  1  =  3\n",
            "3  *  2  =  6\n",
            "3  *  3  =  9\n",
            "3  *  4  =  12\n",
            "3  *  5  =  15\n",
            "3  *  6  =  18\n",
            "3  *  7  =  21\n",
            "3  *  8  =  24\n",
            "3  *  9  =  27\n",
            "4  *  1  =  4\n",
            "4  *  2  =  8\n",
            "4  *  3  =  12\n",
            "4  *  4  =  16\n",
            "4  *  5  =  20\n",
            "4  *  6  =  24\n",
            "4  *  7  =  28\n",
            "4  *  8  =  32\n",
            "4  *  9  =  36\n",
            "5  *  1  =  5\n",
            "5  *  2  =  10\n",
            "5  *  3  =  15\n",
            "5  *  4  =  20\n",
            "5  *  5  =  25\n",
            "5  *  6  =  30\n",
            "5  *  7  =  35\n",
            "5  *  8  =  40\n",
            "5  *  9  =  45\n",
            "6  *  1  =  6\n",
            "6  *  2  =  12\n",
            "6  *  3  =  18\n",
            "6  *  4  =  24\n",
            "6  *  5  =  30\n",
            "6  *  6  =  36\n",
            "6  *  7  =  42\n",
            "6  *  8  =  48\n",
            "6  *  9  =  54\n",
            "7  *  1  =  7\n",
            "7  *  2  =  14\n",
            "7  *  3  =  21\n",
            "7  *  4  =  28\n",
            "7  *  5  =  35\n",
            "7  *  6  =  42\n",
            "7  *  7  =  49\n",
            "7  *  8  =  56\n",
            "7  *  9  =  63\n",
            "8  *  1  =  8\n",
            "8  *  2  =  16\n",
            "8  *  3  =  24\n",
            "8  *  4  =  32\n",
            "8  *  5  =  40\n",
            "8  *  6  =  48\n",
            "8  *  7  =  56\n",
            "8  *  8  =  64\n",
            "8  *  9  =  72\n",
            "9  *  1  =  9\n",
            "9  *  2  =  18\n",
            "9  *  3  =  27\n",
            "9  *  4  =  36\n",
            "9  *  5  =  45\n",
            "9  *  6  =  54\n",
            "9  *  7  =  63\n",
            "9  *  8  =  72\n",
            "9  *  9  =  81\n"
          ]
        }
      ]
    },
    {
      "cell_type": "code",
      "source": [
        "# while loops\n",
        "age = 10\n",
        "while age < 20: # điều kiện dừng vòng lập while\n",
        "  print(age)\n",
        "  age = age + 1 #thêm 1 vào age mỗi vòng lập"
      ],
      "metadata": {
        "colab": {
          "base_uri": "https://localhost:8080/"
        },
        "id": "VH99Ie0o9XYH",
        "outputId": "0a2f1837-0edb-4175-d0b7-328ce7ea69ec"
      },
      "execution_count": 18,
      "outputs": [
        {
          "output_type": "stream",
          "name": "stdout",
          "text": [
            "10\n",
            "11\n",
            "12\n",
            "13\n",
            "14\n",
            "15\n",
            "16\n",
            "17\n",
            "18\n",
            "19\n"
          ]
        }
      ]
    },
    {
      "cell_type": "markdown",
      "source": [
        "##  Python Functions"
      ],
      "metadata": {
        "id": "3XSsLuXF9wJe"
      }
    },
    {
      "cell_type": "code",
      "source": [
        "# Python Function def\n",
        "# indentation for blocks. four spaces\n",
        "#hàm getfv có công thức tính khi gọi hàm thêm các tham số pv r n sẽ chạy ra kết quả\n",
        "def getfv(pv, r, n):\n",
        "  fv = pv * ((1+ (r)) ** n)\n",
        "  return fv\n",
        "fv= getfv(100, 0.1, 7) # gọi hàm xử lý dữ liệu\n",
        "print(round(fv, 2))"
      ],
      "metadata": {
        "colab": {
          "base_uri": "https://localhost:8080/"
        },
        "id": "OpVPzn1O90J-",
        "outputId": "c69515d8-9b8f-4ec8-bf97-1e22aad4a2f1"
      },
      "execution_count": 19,
      "outputs": [
        {
          "output_type": "stream",
          "name": "stdout",
          "text": [
            "194.87\n"
          ]
        }
      ]
    },
    {
      "cell_type": "markdown",
      "source": [
        "##Python Classes/Objects"
      ],
      "metadata": {
        "id": "onuE3qr0-m9O"
      }
    },
    {
      "cell_type": "code",
      "source": [
        "# Python class\n",
        "# Định nghĩa một lớp (class) tên là MyClass\n",
        "class MyClass:\n",
        "  x = 5 # Định nghĩa một thuộc tính (attribute) của lớp tên là x và gán giá trị 5\n",
        "\n",
        "# Tạo một đối tượng (object) từ lớp MyClass\n",
        "c1 = MyClass()\n",
        "\n",
        "# In giá trị của thuộc tính x từ đối tượng c1\n",
        "print(c1.x)"
      ],
      "metadata": {
        "colab": {
          "base_uri": "https://localhost:8080/"
        },
        "id": "wWXbltYr-oR3",
        "outputId": "d468e020-1a1f-48d8-d5cb-53c3a8d20484"
      },
      "execution_count": 22,
      "outputs": [
        {
          "output_type": "stream",
          "name": "stdout",
          "text": [
            "5\n"
          ]
        }
      ]
    },
    {
      "cell_type": "code",
      "source": [
        "# Python class\n",
        "# Định nghĩa một lớp (class) tên là Person\n",
        "class Person:\n",
        "  # Phương thức __init__ (constructor) được gọi tự động khi bạn tạo một đối tượng mới từ lớp này.\n",
        "  # 'self' là tham chiếu đến đối tượng hiện tại.\n",
        "  # 'name' và 'age' là các tham số bạn truyền vào khi tạo đối tượng.\n",
        "  def __init__(self, name, age):\n",
        "    # Gán giá trị của tham số 'name' cho thuộc tính 'name' của đối tượng ('self.name')\n",
        "    self.name= name\n",
        "    # Gán giá trị của tham số 'age' cho thuộc tính 'age' của đối tượng ('self.age')\n",
        "    self.age= age\n",
        "\n",
        "# Tạo một đối tượng (object) tên là p1 từ lớp Person, truyền vào giá trị \"Alan\" cho name và 20 cho age.\n",
        "p1 = Person(\"Alan\", 20)\n",
        "\n",
        "# In giá trị của thuộc tính 'name' từ đối tượng p1\n",
        "print(p1.name)\n",
        "# In giá trị của thuộc tính 'age' từ đối tượng p1\n",
        "print(p1.age)"
      ],
      "metadata": {
        "colab": {
          "base_uri": "https://localhost:8080/"
        },
        "id": "ABzESrQ7-wwO",
        "outputId": "c289a824-6354-4c09-9d14-2d48e8afac63"
      },
      "execution_count": 23,
      "outputs": [
        {
          "output_type": "stream",
          "name": "stdout",
          "text": [
            "Alan\n",
            "20\n"
          ]
        }
      ]
    },
    {
      "cell_type": "code",
      "source": [
        "#Python class\n",
        "# Định nghĩa một lớp (class) tên là Person\n",
        "class Person:\n",
        "  # Phương thức __init__ (constructor) được gọi tự động khi tạo đối tượng.\n",
        "  # self: tham chiếu đến đối tượng hiện tại.\n",
        "  # name, age: các tham số truyền vào khi tạo đối tượng.\n",
        "  def __init__(self, name, age):\n",
        "    self.name = name # Gán giá trị name cho thuộc tính name của đối tượng\n",
        "    self.age = age # Gán giá trị age cho thuộc tính age của đối tượng\n",
        "\n",
        "  # Định nghĩa một phương thức (method) cho lớp Person\n",
        "  def myfunc(self):\n",
        "    # Phương thức này in ra lời chào sử dụng thuộc tính name của đối tượng\n",
        "    print(\"Hello my name is \" + self.name)\n",
        "\n",
        "# Tạo một đối tượng (object) tên là p1 từ lớp Person, truyền vào \"Alan\" và 20\n",
        "p1 = Person(\"Alan\", 20)\n",
        "\n",
        "# Gọi phương thức myfunc() của đối tượng p1\n",
        "p1.myfunc()\n",
        "\n",
        "# In giá trị của thuộc tính name từ đối tượng p1\n",
        "print(p1.name)\n",
        "\n",
        "# In giá trị của thuộc tính age từ đối tượng p1\n",
        "print(p1.age)"
      ],
      "metadata": {
        "colab": {
          "base_uri": "https://localhost:8080/"
        },
        "id": "LF_Zu3sT_U9H",
        "outputId": "90a8da0e-4e23-44f6-d68d-ea9d2c42f559"
      },
      "execution_count": 27,
      "outputs": [
        {
          "output_type": "stream",
          "name": "stdout",
          "text": [
            "Hello my name is Alan\n",
            "Alan\n",
            "20\n"
          ]
        }
      ]
    },
    {
      "cell_type": "code",
      "source": [
        "#Python Classes and Obects\n",
        "class Vehicle:\n",
        "  name = \"\"\n",
        "  kind = \"car\"\n",
        "  color = \"\"\n",
        "  value = 100.00\n",
        "  def description(self):\n",
        "    desc_str = \"%s is a %s %s worth $%.2f.\" % (self.name, self.color, self.kind, self.value)\n",
        "    return desc_str\n",
        "\n",
        "# Tạo đối tượng car1 từ lớp Vehicle và gán giá trị cho các thuộc tính\n",
        "car1 = Vehicle()\n",
        "car1.name = \"Fer\"\n",
        "car1.color = \"red\"\n",
        "car1.kind = \"convertible\"\n",
        "car1.value = 60000.00\n",
        "\n",
        "# Tạo đối tượng car2 từ lớp Vehicle và gán giá trị cho các thuộc tính\n",
        "car2 = Vehicle()\n",
        "car2.name = \"Jump\"\n",
        "car2.color = \"blue\"\n",
        "car2.kind = \"van\"\n",
        "car2.value = 10000.00\n",
        "\n",
        "# Gọi phương thức description() của car1 và in kết quả\n",
        "print(car1.description())\n",
        "# In tên của car1\n",
        "print(car1.name)\n",
        "\n",
        "# Gọi phương thức description() của car2 và in kết quả\n",
        "print(car2.description())\n",
        "# In tên của car2\n",
        "print(car2.name)"
      ],
      "metadata": {
        "colab": {
          "base_uri": "https://localhost:8080/"
        },
        "id": "3NeyAs7Z__HP",
        "outputId": "df34f29d-3cb0-4544-ec4d-b6071f6dfddd"
      },
      "execution_count": 33,
      "outputs": [
        {
          "output_type": "stream",
          "name": "stdout",
          "text": [
            "Fer is a red convertible worth $60000.00.\n",
            "Fer\n",
            "Jump is a blue van worth $10000.00.\n",
            "Jump\n"
          ]
        }
      ]
    },
    {
      "cell_type": "markdown",
      "source": [
        "## Python Modules"
      ],
      "metadata": {
        "id": "1cF_jNlgAx0O"
      }
    },
    {
      "cell_type": "code",
      "source": [
        "#Python Modules\n",
        "import mymodule\n",
        "mymodule.greeting(\"Alan\")"
      ],
      "metadata": {
        "colab": {
          "base_uri": "https://localhost:8080/"
        },
        "id": "-0u1asvoC-Nf",
        "outputId": "a90e286c-f0a5-48b0-bb67-2d8af4314965"
      },
      "execution_count": 53,
      "outputs": [
        {
          "output_type": "stream",
          "name": "stdout",
          "text": [
            "Hello, Alan\n"
          ]
        }
      ]
    },
    {
      "cell_type": "markdown",
      "source": [
        "# Kết thúc"
      ],
      "metadata": {
        "id": "Kb-R2CCXC5Df"
      }
    }
  ]
}