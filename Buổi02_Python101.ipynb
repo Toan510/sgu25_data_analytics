{
  "nbformat": 4,
  "nbformat_minor": 0,
  "metadata": {
    "colab": {
      "provenance": [],
      "toc_visible": true,
      "authorship_tag": "ABX9TyMTcZaFJyR1M3jgNLFXGOzH",
      "include_colab_link": true
    },
    "kernelspec": {
      "name": "python3",
      "display_name": "Python 3"
    },
    "language_info": {
      "name": "python"
    }
  },
  "cells": [
    {
      "cell_type": "markdown",
      "metadata": {
        "id": "view-in-github",
        "colab_type": "text"
      },
      "source": [
        "<a href=\"https://colab.research.google.com/github/Toan510/sgu25_data_analytics/blob/main/Bu%E1%BB%95i02_Python101.ipynb\" target=\"_parent\"><img src=\"https://colab.research.google.com/assets/colab-badge.svg\" alt=\"Open In Colab\"/></a>"
      ]
    },
    {
      "cell_type": "markdown",
      "source": [
        "# Buổi 2 - Demo"
      ],
      "metadata": {
        "id": "bxVomTGJgdab"
      }
    },
    {
      "cell_type": "markdown",
      "source": [
        "## Pythonn Programing"
      ],
      "metadata": {
        "id": "zy_GwO6shrb7"
      }
    },
    {
      "cell_type": "code",
      "source": [
        "from IPython.display import display"
      ],
      "metadata": {
        "id": "ewg7v8GPhrKj"
      },
      "execution_count": 24,
      "outputs": []
    },
    {
      "cell_type": "code",
      "source": [
        "print(\"Hello World\")"
      ],
      "metadata": {
        "colab": {
          "base_uri": "https://localhost:8080/"
        },
        "id": "D0H8rwLqh9DT",
        "outputId": "e4234cfb-fa7c-4b67-9e3f-79b5fb193ac2"
      },
      "execution_count": 25,
      "outputs": [
        {
          "output_type": "stream",
          "name": "stdout",
          "text": [
            "Hello World\n"
          ]
        }
      ]
    },
    {
      "cell_type": "code",
      "source": [
        "#Indentation\n",
        "score = 80\n",
        "if score >=60 :\n",
        "  print(\"Pass\")"
      ],
      "metadata": {
        "colab": {
          "base_uri": "https://localhost:8080/"
        },
        "id": "PBZSYXLHj0lC",
        "outputId": "47de0305-1da3-4a15-ea7d-a7f57c74a437"
      },
      "execution_count": 26,
      "outputs": [
        {
          "output_type": "stream",
          "name": "stdout",
          "text": [
            "Pass\n"
          ]
        }
      ]
    },
    {
      "cell_type": "code",
      "source": [
        "# Python Variables\n",
        "x = 2\n",
        "print(x)\n",
        "\n",
        "price = 2.5\n",
        "print(price)\n",
        "\n",
        "word = 'Hello'\n",
        "print(word)\n",
        "\n",
        "word = 'Hello'\n",
        "print(word)\n",
        "\n",
        "word = \"Hello\"\n",
        "print(word)\n",
        "\n",
        "word = '''Hello'''\n",
        "print(word)\n",
        "\n",
        "x = 2\n",
        "y = x + 1\n",
        "print(y)"
      ],
      "metadata": {
        "colab": {
          "base_uri": "https://localhost:8080/"
        },
        "id": "6VQN1RgQkhia",
        "outputId": "4c4a8de1-dda9-4247-e940-26a46ad6d454"
      },
      "execution_count": 27,
      "outputs": [
        {
          "output_type": "stream",
          "name": "stdout",
          "text": [
            "2\n",
            "2.5\n",
            "Hello\n",
            "Hello\n",
            "Hello\n",
            "Hello\n",
            "3\n"
          ]
        }
      ]
    },
    {
      "cell_type": "code",
      "source": [
        "#python_version()\n",
        "from platform import python_version\n",
        "print(\"Python Version:\", python_version())"
      ],
      "metadata": {
        "colab": {
          "base_uri": "https://localhost:8080/"
        },
        "id": "jr83i-j6lWoM",
        "outputId": "acfd260a-bbb7-4452-fd20-8c552262c1e9"
      },
      "execution_count": 28,
      "outputs": [
        {
          "output_type": "stream",
          "name": "stdout",
          "text": [
            "Python Version: 3.12.11\n"
          ]
        }
      ]
    },
    {
      "cell_type": "code",
      "source": [
        "#Python Data Types\n",
        "#str\n",
        "x = \"Hello World\"\n",
        "print(x)\n",
        "\n",
        "#int\n",
        "x = 2\n",
        "print(x)\n",
        "\n",
        "#float\n",
        "x = 2.5\n",
        "print(x)\n",
        "\n",
        "#complex\n",
        "x = 7j\n",
        "print(x)"
      ],
      "metadata": {
        "colab": {
          "base_uri": "https://localhost:8080/"
        },
        "id": "wVCnddntleXi",
        "outputId": "bab2c937-c0fe-487a-a8e6-959ed4fb1c1a"
      },
      "execution_count": 29,
      "outputs": [
        {
          "output_type": "stream",
          "name": "stdout",
          "text": [
            "Hello World\n",
            "2\n",
            "2.5\n",
            "7j\n"
          ]
        }
      ]
    },
    {
      "cell_type": "code",
      "source": [
        "# Python Data Types\n",
        "#list\n",
        "x = [\"apple\", \"banana\", \"cherry\"]\n",
        "print(x)\n",
        "\n",
        "#tuple\n",
        "x = (\"apple\", \"banana\", \"cherry\")\n",
        "print(x)\n",
        "\n",
        "#range\n",
        "x = range(6)\n",
        "print(x)\n",
        "\n",
        "#dict\n",
        "x = {\"name\" : \"Tom\", \"age\" : 20}\n",
        "print(x)\n",
        "\n",
        "#set\n",
        "x = {\"apple\", \"banana\", \"cherry\"}\n",
        "print(x)\n",
        "\n",
        "#frozenset\n",
        "x = frozenset({\"apple\", \"banana\", \"cherry\"})\n",
        "print(x)\n",
        "\n",
        "#bool\n",
        "x = True\n",
        "print(x)\n",
        "\n",
        "#bytes\n",
        "x = b\"Hello\"\n",
        "print(x)\n",
        "\n",
        "#bytearray\n",
        "x = bytearray(5)\n",
        "print(x)\n",
        "\n",
        "#memoryview\n",
        "x = memoryview(bytes(5))\n",
        "print(x)\n",
        "\n",
        "#NoneType\n",
        "x = None\n",
        "print(x)"
      ],
      "metadata": {
        "colab": {
          "base_uri": "https://localhost:8080/"
        },
        "id": "CBG26ICSm4Zb",
        "outputId": "269c0990-ea62-44f5-cc53-bd65acad70f2"
      },
      "execution_count": 30,
      "outputs": [
        {
          "output_type": "stream",
          "name": "stdout",
          "text": [
            "['apple', 'banana', 'cherry']\n",
            "('apple', 'banana', 'cherry')\n",
            "range(0, 6)\n",
            "{'name': 'Tom', 'age': 20}\n",
            "{'apple', 'cherry', 'banana'}\n",
            "frozenset({'apple', 'cherry', 'banana'})\n",
            "True\n",
            "b'Hello'\n",
            "bytearray(b'\\x00\\x00\\x00\\x00\\x00')\n",
            "<memory at 0x7fa47456a740>\n",
            "None\n"
          ]
        }
      ]
    },
    {
      "cell_type": "code",
      "source": [
        "#Python Casting\n",
        "x = str(3)   # x will be '3'\n",
        "y = int(3)   # y will be 3\n",
        "z = float(3) # z will be 3.0\n",
        "\n",
        "print(x, type(x))\n",
        "print(y, type(y))\n",
        "print(z, type(z))"
      ],
      "metadata": {
        "colab": {
          "base_uri": "https://localhost:8080/"
        },
        "id": "5oBS38AWpNRJ",
        "outputId": "9d3f00bf-ff81-4cbb-c0e7-0a308454dbf5"
      },
      "execution_count": 31,
      "outputs": [
        {
          "output_type": "stream",
          "name": "stdout",
          "text": [
            "3 <class 'str'>\n",
            "3 <class 'int'>\n",
            "3.0 <class 'float'>\n"
          ]
        }
      ]
    },
    {
      "cell_type": "code",
      "source": [
        "#Python Numbers\n",
        "x = 2     # int\n",
        "y = 3.4   # float\n",
        "z = 7j    #complex\n",
        "\n",
        "print(x, type(x))\n",
        "print(y, type(y))\n",
        "print(z, type(z))"
      ],
      "metadata": {
        "colab": {
          "base_uri": "https://localhost:8080/"
        },
        "id": "mTVG5k12p1Qy",
        "outputId": "b00bc1ac-9012-49ce-fa73-f89bcd2f99ca"
      },
      "execution_count": 32,
      "outputs": [
        {
          "output_type": "stream",
          "name": "stdout",
          "text": [
            "2 <class 'int'>\n",
            "3.4 <class 'float'>\n",
            "7j <class 'complex'>\n"
          ]
        }
      ]
    },
    {
      "cell_type": "code",
      "source": [
        "#Python Basic Operators\n",
        "print('7 + 2 =', 7 + 2) #Addition\n",
        "print('7 - 2 =', 7 - 2) #Subtraction\n",
        "print('7 * 2 =', 7 * 2) #Multiplication\n",
        "print('7 / 2 =', 7 / 2) #Division\n",
        "print('7 // 2 =', 7 // 2) #Floor division\n",
        "print('7 % 2 =', 7 % 2) #Modulus\n",
        "print('7 ** 2 =', 7 ** 2) #Exponentiation\n"
      ],
      "metadata": {
        "colab": {
          "base_uri": "https://localhost:8080/"
        },
        "id": "aRDaZIWqqzb4",
        "outputId": "2276cc4a-a0fd-4bc5-b443-30d08f6f5c84"
      },
      "execution_count": 33,
      "outputs": [
        {
          "output_type": "stream",
          "name": "stdout",
          "text": [
            "7 + 2 = 9\n",
            "7 - 2 = 5\n",
            "7 * 2 = 14\n",
            "7 / 2 = 3.5\n",
            "7 // 2 = 3\n",
            "7 % 2 = 1\n",
            "7 ** 2 = 49\n"
          ]
        }
      ]
    },
    {
      "cell_type": "code",
      "source": [
        "# Python Booleans: True or False\n",
        "print(3 > 2)\n",
        "print(3 == 2)\n",
        "print(3 < 2)"
      ],
      "metadata": {
        "colab": {
          "base_uri": "https://localhost:8080/"
        },
        "id": "x5prhnNrr39h",
        "outputId": "a3029dc3-94ba-4d5e-e3b1-887855edf3b4"
      },
      "execution_count": 34,
      "outputs": [
        {
          "output_type": "stream",
          "name": "stdout",
          "text": [
            "True\n",
            "False\n",
            "False\n"
          ]
        }
      ]
    },
    {
      "cell_type": "code",
      "source": [
        "# BMI Calculator in Python\n",
        "height_cm = 170\n",
        "weight_kg = 60\n",
        "height_m = height_cm/100\n",
        "BMI = (weight_kg/(height_m**2))\n",
        "\n",
        "print(\"Your BMI is: \" + str(round(BMI,1)))"
      ],
      "metadata": {
        "colab": {
          "base_uri": "https://localhost:8080/"
        },
        "id": "2-aeMu3lr8GI",
        "outputId": "85cacf49-b262-4f9e-bd30-a65589d4fab7"
      },
      "execution_count": 35,
      "outputs": [
        {
          "output_type": "stream",
          "name": "stdout",
          "text": [
            "Your BMI is: 20.8\n"
          ]
        }
      ]
    },
    {
      "cell_type": "markdown",
      "source": [
        "##Future value\n"
      ],
      "metadata": {
        "id": "I810A94Es5bQ"
      }
    },
    {
      "cell_type": "code",
      "source": [
        "# How much is your $100 worth after 7 years?\n",
        "fv = 100 * 1.1 ** 7\n",
        "print('fv = ', round(fv, 2))\n",
        "# output = 194.87"
      ],
      "metadata": {
        "colab": {
          "base_uri": "https://localhost:8080/"
        },
        "id": "Gaq1HLCks-5Q",
        "outputId": "dadeb452-d85c-43f3-e78d-741bc0262690"
      },
      "execution_count": 36,
      "outputs": [
        {
          "output_type": "stream",
          "name": "stdout",
          "text": [
            "fv =  194.87\n"
          ]
        }
      ]
    },
    {
      "cell_type": "code",
      "source": [
        "# Future Value\n",
        "pv = 100\n",
        "r = 0.1\n",
        "n = 7\n",
        "fv = pv * ((1 + (r)) ** n)\n",
        "print(round(fv, 2))"
      ],
      "metadata": {
        "colab": {
          "base_uri": "https://localhost:8080/"
        },
        "id": "MdgRvH6TtKqw",
        "outputId": "8edfa28d-827a-43ba-cf4b-3f69a85fd199"
      },
      "execution_count": 37,
      "outputs": [
        {
          "output_type": "stream",
          "name": "stdout",
          "text": [
            "194.87\n"
          ]
        }
      ]
    },
    {
      "cell_type": "code",
      "source": [
        "# Future Value\n",
        "amount = 100\n",
        "interest = 10 #10% = 0.01 * 10\n",
        "years = 7\n",
        "\n",
        "future_value = amount * ((1 + (0.01 * interest)) ** years)\n",
        "print(round(future_value, 2))"
      ],
      "metadata": {
        "colab": {
          "base_uri": "https://localhost:8080/"
        },
        "id": "SGHRFIyptOon",
        "outputId": "929aee7b-fb86-4291-b7f2-e06e1cc3f21a"
      },
      "execution_count": 38,
      "outputs": [
        {
          "output_type": "stream",
          "name": "stdout",
          "text": [
            "194.87\n"
          ]
        }
      ]
    },
    {
      "cell_type": "markdown",
      "source": [
        "##Python Data Structures"
      ],
      "metadata": {
        "id": "t6Z4HtQstSrH"
      }
    },
    {
      "cell_type": "code",
      "source": [
        "#Python Data Types\n",
        "x = [\"apple\", \"banana\", \"cherry\"] #list\n",
        "print(x)\n",
        "\n",
        "x = (\"apple\", \"banana\", \"cherry\") #tuple\n",
        "print(x)\n",
        "\n",
        "x = {\"name\" : \"Tom\", \"age\" : 20}  #dict\n",
        "print(x[\"name\"],x[\"age\"])\n",
        "\n",
        "x = {\"apple\", \"banana\", \"cherry\"} #set\n",
        "print(x)"
      ],
      "metadata": {
        "colab": {
          "base_uri": "https://localhost:8080/"
        },
        "id": "iT0vo1DftckH",
        "outputId": "7449f929-3c53-4e61-f424-cadaea2221e0"
      },
      "execution_count": 48,
      "outputs": [
        {
          "output_type": "stream",
          "name": "stdout",
          "text": [
            "['apple', 'banana', 'cherry']\n",
            "('apple', 'banana', 'cherry')\n",
            "Tom 20\n",
            "{'apple', 'cherry', 'banana'}\n"
          ]
        }
      ]
    },
    {
      "cell_type": "code",
      "source": [
        "#Lists []\n",
        "x = [60, 70, 80, 90]\n",
        "print(len(x))#length\n",
        "print(x[0])  #position first left to right\n",
        "print(x[1])  #position second left to right\n",
        "print(x[-1]) #position first right to left"
      ],
      "metadata": {
        "colab": {
          "base_uri": "https://localhost:8080/"
        },
        "id": "E2YkLBKRtvqP",
        "outputId": "92554aea-695a-41c2-9343-259f45138189"
      },
      "execution_count": 42,
      "outputs": [
        {
          "output_type": "stream",
          "name": "stdout",
          "text": [
            "4\n",
            "60\n",
            "70\n",
            "90\n"
          ]
        }
      ]
    },
    {
      "cell_type": "code",
      "source": [
        "#Tuples ()\n",
        "x = (10, 20, 30, 40, 50)\n",
        "print(x[0]) #position first left to right\n",
        "print(x[1]) #position second left to right\n",
        "print(x[2]) #position third left to right\n",
        "print(x[-1]) #position first right to left"
      ],
      "metadata": {
        "colab": {
          "base_uri": "https://localhost:8080/"
        },
        "id": "_cQE6Am-vOnv",
        "outputId": "d1855b93-d966-4f73-cfbb-212970b57113"
      },
      "execution_count": 43,
      "outputs": [
        {
          "output_type": "stream",
          "name": "stdout",
          "text": [
            "10\n",
            "20\n",
            "30\n",
            "50\n"
          ]
        }
      ]
    },
    {
      "cell_type": "code",
      "source": [
        "#Sets {}\n",
        "animals = {'cat', 'dog'}\n",
        "print('cat' in animals) #cat in \"animals\" -> true\n",
        "print('fish' in animals)#fish not in \"animals\" -> fals\n",
        "\n",
        "animals.add('fish')\n",
        "print('fish' in animals)#fish added by code so fish in \"animals\" -> true\n",
        "print(len(animals))#count \"animals\"\n",
        "\n",
        "animals.add('cat')\n",
        "print(len(animals))#count the number of values ​​in \"animals\" after adding cat but cat is already in animals so it doesn't change - > 3\n",
        "\n",
        "animals.remove('cat')\n",
        "print(len(animals))#count the number of values ​​in \"animals\" after removing cat -> 2"
      ],
      "metadata": {
        "colab": {
          "base_uri": "https://localhost:8080/"
        },
        "id": "e-jSDGizvlxe",
        "outputId": "f0a69eec-5aa7-4352-d5b8-dc19529848cf"
      },
      "execution_count": 45,
      "outputs": [
        {
          "output_type": "stream",
          "name": "stdout",
          "text": [
            "True\n",
            "False\n",
            "True\n",
            "3\n",
            "3\n",
            "2\n"
          ]
        }
      ]
    },
    {
      "cell_type": "code",
      "source": [
        "#Dictionary {key : value}\n",
        "k = { 'EN':'English','FR':'French' }\n",
        "\n",
        "print(k['EN'])#call \"EN\" from which we have \"EN\" is English"
      ],
      "metadata": {
        "colab": {
          "base_uri": "https://localhost:8080/"
        },
        "id": "dpmy3tfWxfyn",
        "outputId": "56f7a887-b6eb-4e1e-89bc-e33e752ef906"
      },
      "execution_count": 46,
      "outputs": [
        {
          "output_type": "stream",
          "name": "stdout",
          "text": [
            "English\n"
          ]
        }
      ]
    },
    {
      "cell_type": "code",
      "source": [
        "#Python Data Structures\n",
        "fruits = [\"apple\", \"banana\", \"cherry\"] #lists []\n",
        "print(fruits)\n",
        "\n",
        "colors = (\"red\", \"green\", \"blue\") #tuples ()\n",
        "print(colors)\n",
        "\n",
        "animals = {'cat', 'dog'} #sets {}\n",
        "print(animals)\n",
        "\n",
        "person = {\"name\" : \"Tom\", \"age\" : 20} #dictionaries {}\n",
        "print(person['name'],person['age'])"
      ],
      "metadata": {
        "colab": {
          "base_uri": "https://localhost:8080/"
        },
        "id": "n91OLG7xyCn2",
        "outputId": "f4fdf60c-dff2-40fb-ecd2-1e4c7847beee"
      },
      "execution_count": 57,
      "outputs": [
        {
          "output_type": "stream",
          "name": "stdout",
          "text": [
            "['apple', 'banana', 'cherry']\n",
            "('red', 'green', 'blue')\n",
            "{'cat', 'dog'}\n",
            "Tom 20\n"
          ]
        }
      ]
    },
    {
      "cell_type": "code",
      "source": [
        "#Python for Finance Applications\n",
        "# Python Lists\n",
        "expenses = [72.50, 80.75, 50.00, 90.25]\n",
        "total_expenses = sum(expenses) #sum of values ​​in list\n",
        "print(\"Total expenses:\", total_expenses)\n",
        "print(\"-\" * 20)\n",
        "\n",
        "# Python Tuples\n",
        "accounts = ((\"Cash\", 1001), (\"Accounts Receivable\", 1002),(\"Inventory\", 1003))\n",
        "\n",
        "for account in accounts:\n",
        "  print(\"Account name:\", account[0], \"Account number:\", account[1])"
      ],
      "metadata": {
        "colab": {
          "base_uri": "https://localhost:8080/"
        },
        "id": "nDeieyAHy_Mu",
        "outputId": "096724ad-834d-4cdc-bb5b-df856f7c4f96"
      },
      "execution_count": 61,
      "outputs": [
        {
          "output_type": "stream",
          "name": "stdout",
          "text": [
            "Total expenses: 293.5\n",
            "--------------------\n",
            "Account name: Cash Account number: 1001\n",
            "Account name: Accounts Receivable Account number: 1002\n",
            "Account name: Inventory Account number: 1003\n"
          ]
        }
      ]
    },
    {
      "cell_type": "markdown",
      "source": [
        "# Kết thúc"
      ],
      "metadata": {
        "id": "NHk3gIaJhff8"
      }
    }
  ]
}